{
  "nbformat": 4,
  "nbformat_minor": 0,
  "metadata": {
    "colab": {
      "name": "Test.ipynb",
      "provenance": [],
      "collapsed_sections": [],
      "include_colab_link": true
    },
    "kernelspec": {
      "name": "python3",
      "display_name": "Python 3"
    },
    "language_info": {
      "name": "python"
    }
  },
  "cells": [
    {
      "cell_type": "markdown",
      "metadata": {
        "id": "view-in-github",
        "colab_type": "text"
      },
      "source": [
        "<a href=\"https://colab.research.google.com/github/dezlorator1/DSS/blob/main/Test.ipynb\" target=\"_parent\"><img src=\"https://colab.research.google.com/assets/colab-badge.svg\" alt=\"Open In Colab\"/></a>"
      ]
    },
    {
      "cell_type": "code",
      "metadata": {
        "id": "qvRzrElZxj1Z"
      },
      "source": [
        "import numpy as np\n",
        "import matplotlib.pyplot as plt\n",
        "import matplotlib.image as mpimg  \n",
        "import tensorflow as tf\n",
        "from tensorflow import keras\n",
        "from tensorflow.keras.layers import Dense, Flatten, Conv2D, Dropout\n",
        "from PIL import Image\n",
        "from google.colab import drive\n",
        "from google.colab import files\n",
        "from tensorflow.keras.preprocessing.image import ImageDataGenerator"
      ],
      "execution_count": 79,
      "outputs": []
    },
    {
      "cell_type": "markdown",
      "metadata": {
        "id": "9Znzke1Nokqd"
      },
      "source": [
        "ПОДГОТОВ ОЧКА КАРТИНОК\n"
      ]
    },
    {
      "cell_type": "code",
      "metadata": {
        "id": "cVh5HYk5NcgP",
        "colab": {
          "base_uri": "https://localhost:8080/"
        },
        "outputId": "ed695ded-1a00-400f-e589-cd0de5866449"
      },
      "source": [
        "drive.mount('/content/drive')"
      ],
      "execution_count": null,
      "outputs": [
        {
          "output_type": "stream",
          "text": [
            "Mounted at /content/drive\n"
          ],
          "name": "stdout"
        }
      ]
    },
    {
      "cell_type": "code",
      "metadata": {
        "id": "I0DK5I4VSbPl"
      },
      "source": [
        "img = mpimg.imread('/content/drive/MyDrive/img/CutMoscow.jpg')\n",
        "\n",
        "plt.figure()\n",
        "plt.imshow(img)"
      ],
      "execution_count": null,
      "outputs": []
    },
    {
      "cell_type": "code",
      "metadata": {
        "id": "tfTbQPCXPBsW"
      },
      "source": [
        "chopsize = 50\n",
        "infile = r\"/content/drive/MyDrive/img/CutMoscow.jpg\"\n",
        "outfile = r\"/content/drive/MyDrive/img_color/cut_img_color/\"\n",
        "img = Image.open(infile)\n",
        "width, height = img.size\n",
        "count = 0 ;\n",
        "# Save Chops of original image\n",
        "for x0 in range(0, width, chopsize):\n",
        "   for y0 in range(0, height, chopsize):\n",
        "      box = (x0, y0,\n",
        "             x0+chopsize if x0+chopsize <  width else  width - 1,\n",
        "             y0+chopsize if y0+chopsize < height else height - 1)\n",
        "      #print('%s %s' % (infile, box))\n",
        "      img.crop(box).save(outfile + f'{count}' + '.jpg', \"JPEG\")\n",
        "      count = count + 1"
      ],
      "execution_count": 170,
      "outputs": []
    },
    {
      "cell_type": "code",
      "metadata": {
        "id": "_uQoX-6TXi5d"
      },
      "source": [
        "files.upload()"
      ],
      "execution_count": null,
      "outputs": []
    },
    {
      "cell_type": "markdown",
      "metadata": {
        "id": "9ZcOBLouvsqt"
      },
      "source": [
        "ЗАГОТОВКА МАССИВОВ ДАННЫХ"
      ]
    },
    {
      "cell_type": "code",
      "metadata": {
        "id": "EoWdWe0jEIKc"
      },
      "source": [
        "train_black_dir = r\"/content/drive/MyDrive/img_black\"\n",
        "df_black = ImageDataGenerator(rescale=1. / 255)"
      ],
      "execution_count": 180,
      "outputs": []
    },
    {
      "cell_type": "code",
      "metadata": {
        "id": "xPMH3XEAA8Xd",
        "colab": {
          "base_uri": "https://localhost:8080/"
        },
        "outputId": "b1c7c988-3dbe-4eec-8f40-5ded94ec17ce"
      },
      "source": [
        "df_black_gen = df_black.flow_from_directory(\n",
        "    train_black_dir,\n",
        "    target_size=(50, 50),\n",
        "    color_mode=\"rgb\",\n",
        "    class_mode='categorical',\n",
        "    batch_size=960,\n",
        "    shuffle=False\n",
        ")"
      ],
      "execution_count": 181,
      "outputs": [
        {
          "output_type": "stream",
          "text": [
            "Found 960 images belonging to 1 classes.\n"
          ],
          "name": "stdout"
        }
      ]
    },
    {
      "cell_type": "code",
      "metadata": {
        "id": "C6WdBNEbNGCj"
      },
      "source": [
        "x_black, _ = df_black_gen.next()"
      ],
      "execution_count": 182,
      "outputs": []
    },
    {
      "cell_type": "code",
      "metadata": {
        "id": "QfveIr-aIBLn"
      },
      "source": [
        "train_color_dir = r\"/content/drive/MyDrive/img_color/\"\n",
        "df_color = ImageDataGenerator(rescale=1. / 255)"
      ],
      "execution_count": 183,
      "outputs": []
    },
    {
      "cell_type": "code",
      "metadata": {
        "colab": {
          "base_uri": "https://localhost:8080/"
        },
        "id": "hzlBN8rkIZ6z",
        "outputId": "8bfc9a53-3eb9-4a5a-af08-e594a23acf41"
      },
      "source": [
        "df_color_gen = df_color.flow_from_directory(\n",
        "    train_color_dir,\n",
        "    target_size=(50, 50),\n",
        "    color_mode=\"rgb\",\n",
        "    class_mode='categorical',\n",
        "    batch_size=960,\n",
        "    shuffle=False\n",
        ")"
      ],
      "execution_count": 184,
      "outputs": [
        {
          "output_type": "stream",
          "text": [
            "Found 960 images belonging to 1 classes.\n"
          ],
          "name": "stdout"
        }
      ]
    },
    {
      "cell_type": "code",
      "metadata": {
        "id": "fiueUUUgTWIt"
      },
      "source": [
        "y_color, _ = df_color_gen.next()"
      ],
      "execution_count": 185,
      "outputs": []
    },
    {
      "cell_type": "code",
      "metadata": {
        "colab": {
          "base_uri": "https://localhost:8080/"
        },
        "id": "PTsDtP6Zx8vF",
        "outputId": "67091819-589b-44d0-857e-144e832c5f75"
      },
      "source": [
        "test_black_dir = r\"/content/drive/MyDrive/volgograd_black\"\n",
        "test_black1 = ImageDataGenerator(rescale=1. / 255)\n",
        "test_black_gen = test_black1.flow_from_directory(\n",
        "    test_black_dir,\n",
        "    target_size=(50, 50),\n",
        "    color_mode=\"rgb\",\n",
        "    class_mode='categorical',\n",
        "    batch_size=960,\n",
        "    shuffle=False\n",
        ")\n",
        "test_black, _ = test_black_gen.next()"
      ],
      "execution_count": 186,
      "outputs": [
        {
          "output_type": "stream",
          "text": [
            "Found 960 images belonging to 1 classes.\n"
          ],
          "name": "stdout"
        }
      ]
    },
    {
      "cell_type": "code",
      "metadata": {
        "colab": {
          "base_uri": "https://localhost:8080/"
        },
        "id": "K7_X2lnTzShE",
        "outputId": "718b520c-1c16-40ba-f463-f48a66a86e64"
      },
      "source": [
        "test_color_dir = r\"/content/drive/MyDrive/volgograd_color/\"\n",
        "test_color1 = ImageDataGenerator(rescale=1. / 255)\n",
        "test_color_gen = test_color1.flow_from_directory(\n",
        "    test_color_dir,\n",
        "    target_size=(50, 50),\n",
        "    color_mode=\"rgb\",\n",
        "    class_mode='categorical',\n",
        "    batch_size=960,\n",
        "    shuffle=False\n",
        ")\n",
        "test_color, _ = test_color_gen.next()"
      ],
      "execution_count": 187,
      "outputs": [
        {
          "output_type": "stream",
          "text": [
            "Found 960 images belonging to 1 classes.\n"
          ],
          "name": "stdout"
        }
      ]
    },
    {
      "cell_type": "code",
      "metadata": {
        "id": "jQT8laf1Bf5a"
      },
      "source": [
        "plt.figure()\n",
        "plt.imshow(x_black[1])\n",
        "plt.figure()\n",
        "plt.imshow(y_color[1])"
      ],
      "execution_count": null,
      "outputs": []
    },
    {
      "cell_type": "markdown",
      "metadata": {
        "id": "RScsvhIRJVHz"
      },
      "source": [
        "НА ЭТО ГОВНО СМОТРЕТЬ НЕ НАДО\n",
        "\n",
        "А ПРИЙДЕТСЯ..."
      ]
    },
    {
      "cell_type": "code",
      "metadata": {
        "id": "QHDhqpblojHP"
      },
      "source": [
        "cut_black = np.array([])\n",
        "#black = np.array([])\n",
        "for i in range(2):\n",
        "  img = mpimg.imread('/content/drive/MyDrive/img/cut_img_black/' + f'{i}' + '.jpg')\n",
        "  #black = np.append(black, img)\n",
        "  cut_black = np.append(cut_black, img)\n",
        "  print(cut_black)\n",
        "  #cut_black.append(img)"
      ],
      "execution_count": null,
      "outputs": []
    },
    {
      "cell_type": "code",
      "metadata": {
        "id": "LT_jqVSjui8s"
      },
      "source": [
        "cut_color = np.array([])\n",
        "for i in range(960):\n",
        "    img = mpimg.imread('/content/drive/MyDrive/img/cut_img_color/' + f'{i}' + 'c.jpg')\n",
        "    cut_color = np.append(cut_color, img)\n",
        "    #cut_color.append(img)"
      ],
      "execution_count": null,
      "outputs": []
    },
    {
      "cell_type": "code",
      "metadata": {
        "id": "xlyIIlbY0z5a"
      },
      "source": [
        "print(cut_black[0])"
      ],
      "execution_count": null,
      "outputs": []
    },
    {
      "cell_type": "code",
      "metadata": {
        "id": "t_6kHxxPt-rU"
      },
      "source": [
        "plt.figure()\n",
        "plt.imshow(cut_black[0])\n",
        "#plt.figure()\n",
        "#plt.imshow(cut_color[0])\n"
      ],
      "execution_count": null,
      "outputs": []
    },
    {
      "cell_type": "code",
      "metadata": {
        "id": "kqv9B8mkwbVm"
      },
      "source": [
        "for i in range(960):\n",
        "  cut_black[i] = cut_black[i] / 255\n",
        "  cut_color[i] = cut_color[i] / 255"
      ],
      "execution_count": null,
      "outputs": []
    },
    {
      "cell_type": "markdown",
      "metadata": {
        "id": "ymiVpsspoo-d"
      },
      "source": [
        "НЕЙРОНКА\n"
      ]
    },
    {
      "cell_type": "code",
      "metadata": {
        "id": "MZW01pK3v1HQ"
      },
      "source": [
        "model = keras.Sequential([\n",
        "    Conv2D(filters=3, kernel_size = 1, input_shape=(50, 50, 3)),\n",
        "    Dense(1200, activation='relu'),\n",
        "    Dropout(0.4),\n",
        "    Dense(150, activation='relu'),\n",
        "    Conv2D(filters=3, kernel_size = 1, input_shape=(50, 50, 3))\n",
        "])\n"
      ],
      "execution_count": 205,
      "outputs": []
    },
    {
      "cell_type": "code",
      "metadata": {
        "id": "naE0V-TnwNMM",
        "colab": {
          "base_uri": "https://localhost:8080/"
        },
        "outputId": "c164be63-ef4f-4341-fcd2-4291483306dd"
      },
      "source": [
        "print(model.summary()) "
      ],
      "execution_count": 206,
      "outputs": [
        {
          "output_type": "stream",
          "text": [
            "Model: \"sequential_21\"\n",
            "_________________________________________________________________\n",
            "Layer (type)                 Output Shape              Param #   \n",
            "=================================================================\n",
            "conv2d_35 (Conv2D)           (None, 50, 50, 3)         12        \n",
            "_________________________________________________________________\n",
            "dense_49 (Dense)             (None, 50, 50, 1200)      4800      \n",
            "_________________________________________________________________\n",
            "dropout_9 (Dropout)          (None, 50, 50, 1200)      0         \n",
            "_________________________________________________________________\n",
            "dense_50 (Dense)             (None, 50, 50, 150)       180150    \n",
            "_________________________________________________________________\n",
            "conv2d_36 (Conv2D)           (None, 50, 50, 3)         453       \n",
            "=================================================================\n",
            "Total params: 185,415\n",
            "Trainable params: 185,415\n",
            "Non-trainable params: 0\n",
            "_________________________________________________________________\n",
            "None\n"
          ],
          "name": "stdout"
        }
      ]
    },
    {
      "cell_type": "code",
      "metadata": {
        "id": "al1oehGUyEgF"
      },
      "source": [
        "model.compile(optimizer='adam',\n",
        "             loss='binary_crossentropy',\n",
        "             metrics=['accuracy'])"
      ],
      "execution_count": 207,
      "outputs": []
    },
    {
      "cell_type": "code",
      "metadata": {
        "id": "3gBo-gtuyMs-",
        "colab": {
          "base_uri": "https://localhost:8080/"
        },
        "outputId": "7188960d-ee27-41fa-aebb-2f201201fc59"
      },
      "source": [
        "model.fit(x_black, y_color, batch_size=32, epochs=5, validation_split=0.10)"
      ],
      "execution_count": 208,
      "outputs": [
        {
          "output_type": "stream",
          "text": [
            "Epoch 1/5\n",
            "27/27 [==============================] - 88s 3s/step - loss: 0.9863 - accuracy: 0.4943 - val_loss: 0.4970 - val_accuracy: 0.8367\n",
            "Epoch 2/5\n",
            "27/27 [==============================] - 86s 3s/step - loss: 0.5270 - accuracy: 0.8162 - val_loss: 0.4820 - val_accuracy: 0.8367\n",
            "Epoch 3/5\n",
            "27/27 [==============================] - 87s 3s/step - loss: 0.5186 - accuracy: 0.8120 - val_loss: 0.4791 - val_accuracy: 0.8367\n",
            "Epoch 4/5\n",
            "27/27 [==============================] - 88s 3s/step - loss: 0.5141 - accuracy: 0.8220 - val_loss: 0.4775 - val_accuracy: 0.8367\n",
            "Epoch 5/5\n",
            "27/27 [==============================] - 90s 3s/step - loss: 0.5115 - accuracy: 0.8116 - val_loss: 0.4758 - val_accuracy: 0.8367\n"
          ],
          "name": "stdout"
        },
        {
          "output_type": "execute_result",
          "data": {
            "text/plain": [
              "<tensorflow.python.keras.callbacks.History at 0x7fe967c2b190>"
            ]
          },
          "metadata": {
            "tags": []
          },
          "execution_count": 208
        }
      ]
    },
    {
      "cell_type": "code",
      "metadata": {
        "colab": {
          "base_uri": "https://localhost:8080/"
        },
        "id": "NfhNfIJZ1XAN",
        "outputId": "e8816d1e-d1bc-4913-95ac-a0a844e570d4"
      },
      "source": [
        "model.evaluate(test_black, test_color)"
      ],
      "execution_count": 209,
      "outputs": [
        {
          "output_type": "stream",
          "text": [
            "30/30 [==============================] - 23s 767ms/step - loss: 0.3435 - accuracy: 0.6036\n"
          ],
          "name": "stdout"
        },
        {
          "output_type": "execute_result",
          "data": {
            "text/plain": [
              "[0.3435407876968384, 0.6036279201507568]"
            ]
          },
          "metadata": {
            "tags": []
          },
          "execution_count": 209
        }
      ]
    },
    {
      "cell_type": "code",
      "metadata": {
        "colab": {
          "base_uri": "https://localhost:8080/",
          "height": 784
        },
        "id": "1tQ5lByH3frs",
        "outputId": "dc061fc8-7d3c-4567-e18b-b37666b76e24"
      },
      "source": [
        "predictions = model.predict(x_black)\n",
        "img_num = 228\n",
        "plt.figure()\n",
        "plt.imshow(x_black[img_num])\n",
        "plt.figure()\n",
        "plt.imshow(y_color[img_num])\n",
        "plt.figure()\n",
        "plt.imshow(predictions[img_num])\n",
        "#img = mpimg.imread('/content/drive/MyDrive/img/CutMoscow.jpg')\n",
        "#print(x_black[0])\n",
        "#plt.figure()\n",
        "#plt.imshow(img)"
      ],
      "execution_count": 211,
      "outputs": [
        {
          "output_type": "execute_result",
          "data": {
            "text/plain": [
              "<matplotlib.image.AxesImage at 0x7fe956344910>"
            ]
          },
          "metadata": {
            "tags": []
          },
          "execution_count": 211
        },
        {
          "output_type": "display_data",
          "data": {
            "image/png": "[encoded data removed]",
            "text/plain": [
              "<Figure size 432x288 with 1 Axes>"
            ]
          },
          "metadata": {
            "tags": [],
            "needs_background": "light"
          }
        },
        {
          "output_type": "display_data",
          "data": {
            "image/png": "[encoded data removed]",
            "text/plain": [
              "<Figure size 432x288 with 1 Axes>"
            ]
          },
          "metadata": {
            "tags": [],
            "needs_background": "light"
          }
        },
        {
          "output_type": "display_data",
          "data": {
            "image/png": "[encoded data removed]",
            "text/plain": [
              "<Figure size 432x288 with 1 Axes>"
            ]
          },
          "metadata": {
            "tags": [],
            "needs_background": "light"
          }
        }
      ]
    },
    {
      "cell_type": "markdown",
      "metadata": {
        "id": "DOuUlSVbmxR1"
      },
      "source": [
        "loss='binary_crossentropy', 81%\n",
        "\n",
        "model = keras.Sequential([\n",
        "    Conv2D(filters=3, kernel_size = 1, input_shape=(50, 50, 3)),\n",
        "    Dense(1500, activation='relu'),\n",
        "    Dropout(0.4),\n",
        "    Dense(100, activation='relu'),\n",
        "    Conv2D(filters=3, kernel_size = 1, input_shape=(50, 50, 3))\n",
        "]) 0.8474"
      ]
    }
  ]
}