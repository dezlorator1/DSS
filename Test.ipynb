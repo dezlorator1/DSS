{
  "nbformat": 4,
  "nbformat_minor": 0,
  "metadata": {
    "colab": {
      "name": "Test.ipynb",
      "provenance": [],
      "collapsed_sections": [],
      "include_colab_link": true
    },
    "kernelspec": {
      "name": "python3",
      "display_name": "Python 3"
    },
    "language_info": {
      "name": "python"
    }
  },
  "cells": [
    {
      "cell_type": "markdown",
      "metadata": {
        "id": "view-in-github",
        "colab_type": "text"
      },
      "source": [
        "<a href=\"https://colab.research.google.com/github/dezlorator1/DSS/blob/main/Test.ipynb\" target=\"_parent\"><img src=\"https://colab.research.google.com/assets/colab-badge.svg\" alt=\"Open In Colab\"/></a>"
      ]
    },
    {
      "cell_type": "code",
      "metadata": {
        "id": "qvRzrElZxj1Z"
      },
      "source": [
        "import numpy as np\n",
        "import matplotlib.pyplot as plt\n",
        "import matplotlib.image as mpimg  \n",
        "import tensorflow as tf\n",
        "from tensorflow import keras\n",
        "from tensorflow.keras.layers import Dense, Flatten\n",
        "from PIL import Image\n",
        "from google.colab import drive\n",
        "from google.colab import files"
      ],
      "execution_count": 2,
      "outputs": []
    },
    {
      "cell_type": "markdown",
      "metadata": {
        "id": "9Znzke1Nokqd"
      },
      "source": [
        "ПОДГОТОВ ОЧКА КАРТИНОК\n"
      ]
    },
    {
      "cell_type": "code",
      "metadata": {
        "id": "cVh5HYk5NcgP",
        "colab": {
          "base_uri": "https://localhost:8080/"
        },
        "outputId": "ed695ded-1a00-400f-e589-cd0de5866449"
      },
      "source": [
        "drive.mount('/content/drive')"
      ],
      "execution_count": 3,
      "outputs": [
        {
          "output_type": "stream",
          "text": [
            "Mounted at /content/drive\n"
          ],
          "name": "stdout"
        }
      ]
    },
    {
      "cell_type": "code",
      "metadata": {
        "id": "I0DK5I4VSbPl"
      },
      "source": [
        "img = mpimg.imread('/content/drive/MyDrive/img/CutMoscow.jpg')\n",
        "\n",
        "plt.figure()\n",
        "plt.imshow(img)"
      ],
      "execution_count": null,
      "outputs": []
    },
    {
      "cell_type": "code",
      "metadata": {
        "id": "tfTbQPCXPBsW"
      },
      "source": [
        "chopsize = 50\n",
        "infile = r\"/content/drive/MyDrive/img/CutMoscow.jpg\"\n",
        "outfile = r\"/content/drive/MyDrive/img/cut_img_color/\"\n",
        "img = Image.open(infile)\n",
        "width, height = img.size\n",
        "count = 0 ;\n",
        "# Save Chops of original image\n",
        "for x0 in range(0, width, chopsize):\n",
        "   for y0 in range(0, height, chopsize):\n",
        "      box = (x0, y0,\n",
        "             x0+chopsize if x0+chopsize <  width else  width - 1,\n",
        "             y0+chopsize if y0+chopsize < height else height - 1)\n",
        "      #print('%s %s' % (infile, box))\n",
        "      img.crop(box).save(outfile + f'{count}' + 'c.jpg', \"JPEG\")\n",
        "      count = count + 1"
      ],
      "execution_count": null,
      "outputs": []
    },
    {
      "cell_type": "code",
      "metadata": {
        "id": "_uQoX-6TXi5d"
      },
      "source": [
        "files.upload()"
      ],
      "execution_count": null,
      "outputs": []
    },
    {
      "cell_type": "markdown",
      "metadata": {
        "id": "9ZcOBLouvsqt"
      },
      "source": [
        "ЗАГОТОВКА МАССИВОВ ДАННЫХ"
      ]
    },
    {
      "cell_type": "code",
      "metadata": {
        "id": "qNr1Fha-F1gk"
      },
      "source": [
        "from tensorflow.keras.preprocessing.image import ImageDataGenerator"
      ],
      "execution_count": null,
      "outputs": []
    },
    {
      "cell_type": "code",
      "metadata": {
        "id": "EoWdWe0jEIKc"
      },
      "source": [
        "train_black_dir = r\"/content/drive/MyDrive/img_black\"\n",
        "df_black = ImageDataGenerator(rescale=1. / 255)"
      ],
      "execution_count": null,
      "outputs": []
    },
    {
      "cell_type": "code",
      "metadata": {
        "id": "xPMH3XEAA8Xd"
      },
      "source": [
        "df_black_gen = df_black.flow_from_directory(\n",
        "    train_black_dir,\n",
        "    target_size=(50, 50),\n",
        "    color_mode=\"rgb\",\n",
        "    class_mode='categorical',\n",
        "    batch_size=32,\n",
        "    shuffle=False\n",
        ")"
      ],
      "execution_count": null,
      "outputs": []
    },
    {
      "cell_type": "code",
      "metadata": {
        "id": "C6WdBNEbNGCj"
      },
      "source": [
        "x_black, _ = df_black_gen.next()"
      ],
      "execution_count": null,
      "outputs": []
    },
    {
      "cell_type": "code",
      "metadata": {
        "id": "QfveIr-aIBLn"
      },
      "source": [
        "train_color_dir = r\"/content/drive/MyDrive/img_color/\"\n",
        "df_color = ImageDataGenerator(rescale=1. / 255)"
      ],
      "execution_count": null,
      "outputs": []
    },
    {
      "cell_type": "code",
      "metadata": {
        "colab": {
          "base_uri": "https://localhost:8080/"
        },
        "id": "hzlBN8rkIZ6z",
        "outputId": "4b1a104f-4e86-45b7-b41b-8a232f892df6"
      },
      "source": [
        "df_color_gen = df_color.flow_from_directory(\n",
        "    train_color_dir,\n",
        "    target_size=(50, 50),\n",
        "    color_mode=\"rgb\",\n",
        "    class_mode='categorical',\n",
        "    batch_size=32,\n",
        "    shuffle=False\n",
        ")"
      ],
      "execution_count": null,
      "outputs": [
        {
          "output_type": "stream",
          "text": [
            "Found 960 images belonging to 1 classes.\n"
          ],
          "name": "stdout"
        }
      ]
    },
    {
      "cell_type": "code",
      "metadata": {
        "id": "fiueUUUgTWIt"
      },
      "source": [
        "y_color, _ = df_color_gen.next()"
      ],
      "execution_count": null,
      "outputs": []
    },
    {
      "cell_type": "markdown",
      "metadata": {
        "id": "RScsvhIRJVHz"
      },
      "source": [
        "НА ЭТО ГОВНО СМОТРЕТЬ НЕ НАДО\n",
        "\n",
        "А ПРИЙДЕТСЯ..."
      ]
    },
    {
      "cell_type": "code",
      "metadata": {
        "id": "QHDhqpblojHP"
      },
      "source": [
        "cut_black = np.array([])\n",
        "#black = np.array([])\n",
        "for i in range(2):\n",
        "  img = mpimg.imread('/content/drive/MyDrive/img/cut_img_black/' + f'{i}' + '.jpg')\n",
        "  #black = np.append(black, img)\n",
        "  cut_black = np.append(cut_black, img)\n",
        "  print(cut_black)\n",
        "  #cut_black.append(img)"
      ],
      "execution_count": null,
      "outputs": []
    },
    {
      "cell_type": "code",
      "metadata": {
        "id": "LT_jqVSjui8s"
      },
      "source": [
        "cut_color = np.array([])\n",
        "for i in range(960):\n",
        "    img = mpimg.imread('/content/drive/MyDrive/img/cut_img_color/' + f'{i}' + 'c.jpg')\n",
        "    cut_color = np.append(cut_color, img)\n",
        "    #cut_color.append(img)"
      ],
      "execution_count": null,
      "outputs": []
    },
    {
      "cell_type": "code",
      "metadata": {
        "id": "xlyIIlbY0z5a"
      },
      "source": [
        "print(cut_black[0])"
      ],
      "execution_count": null,
      "outputs": []
    },
    {
      "cell_type": "code",
      "metadata": {
        "id": "t_6kHxxPt-rU"
      },
      "source": [
        "plt.figure()\n",
        "plt.imshow(cut_black[0])\n",
        "#plt.figure()\n",
        "#plt.imshow(cut_color[0])\n"
      ],
      "execution_count": null,
      "outputs": []
    },
    {
      "cell_type": "code",
      "metadata": {
        "id": "kqv9B8mkwbVm"
      },
      "source": [
        "for i in range(960):\n",
        "  cut_black[i] = cut_black[i] / 255\n",
        "  cut_color[i] = cut_color[i] / 255"
      ],
      "execution_count": null,
      "outputs": []
    },
    {
      "cell_type": "markdown",
      "metadata": {
        "id": "ymiVpsspoo-d"
      },
      "source": [
        "НЕЙРОНКА\n"
      ]
    },
    {
      "cell_type": "code",
      "metadata": {
        "id": "MZW01pK3v1HQ"
      },
      "source": [
        "model = keras.Sequential([\n",
        "    Flatten(input_shape=(50, 50, 3)),\n",
        "    Dense(2000, activation='relu'),\n",
        "    Dense(500, activation='relu'),\n",
        "    Dense(7500,input_shape=(50, 50, 3), activation='softmax')\n",
        "])"
      ],
      "execution_count": null,
      "outputs": []
    },
    {
      "cell_type": "code",
      "metadata": {
        "id": "naE0V-TnwNMM"
      },
      "source": [
        "print(model.summary()) "
      ],
      "execution_count": null,
      "outputs": []
    },
    {
      "cell_type": "code",
      "metadata": {
        "id": "al1oehGUyEgF"
      },
      "source": [
        "model.compile(optimizer='adam',\n",
        "             loss='categorical_crossentropy',\n",
        "             metrics=['accuracy'])"
      ],
      "execution_count": null,
      "outputs": []
    },
    {
      "cell_type": "code",
      "metadata": {
        "id": "3gBo-gtuyMs-"
      },
      "source": [
        "model.fit(x_black, y_color, batch_size=32, epochs=5, validation_split=0.15)"
      ],
      "execution_count": null,
      "outputs": []
    }
  ]
}