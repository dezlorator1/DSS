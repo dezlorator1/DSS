{
  "nbformat": 4,
  "nbformat_minor": 0,
  "metadata": {
    "colab": {
      "name": "multispectral.ipynb",
      "provenance": [],
      "collapsed_sections": [],
      "include_colab_link": true
    },
    "kernelspec": {
      "display_name": "Python 3",
      "name": "python3"
    },
    "language_info": {
      "name": "python"
    }
  },
  "cells": [
    {
      "cell_type": "markdown",
      "metadata": {
        "id": "view-in-github",
        "colab_type": "text"
      },
      "source": [
        "<a href=\"https://colab.research.google.com/github/dezlorator1/DSS/blob/main/multispectral.ipynb\" target=\"_parent\"><img src=\"https://colab.research.google.com/assets/colab-badge.svg\" alt=\"Open In Colab\"/></a>"
      ]
    },
    {
      "cell_type": "code",
      "metadata": {
        "id": "gGwZ2qwQoBmr"
      },
      "source": [
        "import numpy as np\n",
        "import matplotlib.pyplot as plt\n",
        "import matplotlib.image as mpimg  \n",
        "import tensorflow as tf\n",
        "from tensorflow import keras\n",
        "from tensorflow.keras.layers import Dense, Flatten, Conv2D, Dropout, BatchNormalization,Activation,MaxPooling2D\n",
        "from PIL import Image\n",
        "from google.colab import drive\n",
        "from google.colab import files\n",
        "from tensorflow.keras.preprocessing.image import ImageDataGenerator\n",
        "from io import BytesIO  \n",
        "from keras.constraints import maxnorm"
      ],
      "execution_count": null,
      "outputs": []
    },
    {
      "cell_type": "code",
      "metadata": {
        "colab": {
          "base_uri": "https://localhost:8080/"
        },
        "id": "djaeXRrhoQ49",
        "outputId": "0b47052d-3afe-4b6c-f188-c86318618286"
      },
      "source": [
        "drive.mount('/content/drive')"
      ],
      "execution_count": null,
      "outputs": [
        {
          "output_type": "stream",
          "text": [
            "Mounted at /content/drive\n"
          ],
          "name": "stdout"
        }
      ]
    },
    {
      "cell_type": "markdown",
      "metadata": {
        "id": "rYZXvof9pO73"
      },
      "source": [
        "ФЛЕКС С КАРТИНКАМИ"
      ]
    },
    {
      "cell_type": "code",
      "metadata": {
        "id": "578C1ZXhzEwI"
      },
      "source": [
        "# Перевод в GreyScale\n",
        "gray = Image.open(r'/content/drive/MyDrive/img/x_test.jpg')\n",
        "grayscale = gray.convert('L')\n",
        "grayscale.save(r'/content/drive/MyDrive/img/' + 'x_test_grey.jpg', 'JPEG')"
      ],
      "execution_count": null,
      "outputs": []
    },
    {
      "cell_type": "code",
      "metadata": {
        "id": "mNl5BreapR6u"
      },
      "source": [
        "# Нарезать фото\n",
        "chopsize = 50\n",
        "infile = r\"/content/drive/MyDrive/img/x_test.png\"\n",
        "outfile = r\"/content/drive/MyDrive/image_cut/x_test/img_cut/\"\n",
        "img = Image.open(infile)\n",
        "width, height = img.size\n",
        "count = 0 ;\n",
        "# Save Chops of original image\n",
        "for x0 in range(0, width, chopsize):\n",
        "   for y0 in range(0, height, chopsize):\n",
        "      box = (x0, y0,\n",
        "             x0+chopsize if x0+chopsize <  width else  width - 1,\n",
        "             y0+chopsize if y0+chopsize < height else height - 1)\n",
        "      if(count<10):\n",
        "        img.crop(box).save(outfile + '00'+ f'{count}' + '.png', \"PNG\")\n",
        "      elif (count <100):\n",
        "        img.crop(box).save(outfile + '0'+ f'{count}' + '.png', \"PNG\")\n",
        "      else:\n",
        "        img.crop(box).save(outfile + f'{count}' + '.png', \"PNG\")\n",
        "      count = count + 1"
      ],
      "execution_count": null,
      "outputs": []
    },
    {
      "cell_type": "code",
      "metadata": {
        "id": "bO8mkXuw-M4L"
      },
      "source": [
        "# Превращение фотографии в 4 цвета\n",
        "rgb = Image.open(r'/content/drive/MyDrive/img/y_test.png')\n",
        "for x in range(2400):\n",
        "  for y in range(1000):\n",
        "    val = rgb.getpixel((x, y))\n",
        "    r, g, b, all = val\n",
        "    if(r>200 and g>200 and b> 200):\n",
        "      rgb.putpixel((x, y), (255, 255, 255))\n",
        "    elif (g>100):\n",
        "      rgb.putpixel((x, y), (0, 255, 0))\n",
        "    elif ((r > 100 or b> 100) and g<100):\n",
        "      rgb.putpixel((x, y), (255, 0 , 0)) \n",
        "    else :\n",
        "      rgb.putpixel((x, y), (0, 0 , 0))\n",
        "rgb  \n"
      ],
      "execution_count": null,
      "outputs": []
    },
    {
      "cell_type": "code",
      "metadata": {
        "id": "E5X6ddDQXUmL"
      },
      "source": [
        "rgb.save(r'/content/drive/MyDrive/img/' + 'y_4color_test.png', 'PNG')"
      ],
      "execution_count": null,
      "outputs": []
    },
    {
      "cell_type": "markdown",
      "metadata": {
        "id": "hPFOzdpqifra"
      },
      "source": [
        "РАЗДЕЛЕНИЕ НА 3 КАРТИНКИ ПО 2 ЦВЕТА\n"
      ]
    },
    {
      "cell_type": "code",
      "metadata": {
        "id": "t8QjRFwjidEY"
      },
      "source": [
        "# КРАСНЫЙ\n",
        "r_img = Image.open(r'/content/drive/MyDrive/img/y_4color.png')\n",
        "for x in range(2400):\n",
        "  for y in range(1000):\n",
        "    val = r_img.getpixel((x, y))\n",
        "    r, g, b, all = val\n",
        "    if (r==255 and g==0 and b==0):\n",
        "      r_img.putpixel((x, y), (255, 0 , 0))\n",
        "    else:\n",
        "      r_img.putpixel((x, y), (0, 0 , 0))      \n",
        "r_img  "
      ],
      "execution_count": null,
      "outputs": []
    },
    {
      "cell_type": "code",
      "metadata": {
        "id": "_qsoPGKOkuPM"
      },
      "source": [
        "# ЗЕЛЕНЫЙ\n",
        "g_img = Image.open(r'/content/drive/MyDrive/img/y_4color.png')\n",
        "for x in range(2400):\n",
        "  for y in range(1000):\n",
        "    val = g_img.getpixel((x, y))\n",
        "    r, g, b, all = val\n",
        "    if (r==0 and g==255 and b==0):\n",
        "      g_img.putpixel((x, y), (0, 255 , 0))\n",
        "    else:\n",
        "      g_img.putpixel((x, y), (0, 0 , 0))      \n",
        "g_img  "
      ],
      "execution_count": null,
      "outputs": []
    },
    {
      "cell_type": "code",
      "metadata": {
        "id": "lwRm9pNBlBIh"
      },
      "source": [
        "# БЕЛЫЙ\n",
        "w_img = Image.open(r'/content/drive/MyDrive/img/y_4color.png')\n",
        "for x in range(2400):\n",
        "  for y in range(1000):\n",
        "    val = w_img.getpixel((x, y))\n",
        "    r, g, b, all = val\n",
        "    if (r==255 and g==255 and b==255):\n",
        "      w_img.putpixel((x, y), (255, 255 , 255))\n",
        "    else:\n",
        "      w_img.putpixel((x, y), (0, 0 , 0))      \n",
        "w_img  "
      ],
      "execution_count": null,
      "outputs": []
    },
    {
      "cell_type": "code",
      "metadata": {
        "id": "RQSiu4e4lm-Y"
      },
      "source": [
        "r_img.save(r'/content/drive/MyDrive/img/' + 'y_r.png', 'PNG')\n",
        "g_img.save(r'/content/drive/MyDrive/img/' + 'y_g.png', 'PNG')\n",
        "w_img.save(r'/content/drive/MyDrive/img/' + 'y_w.png', 'PNG')"
      ],
      "execution_count": null,
      "outputs": []
    },
    {
      "cell_type": "markdown",
      "metadata": {
        "id": "gj9zxUudpZK0"
      },
      "source": [
        "ЗАГОТОВКА МАССИВАВ ДАННЫХ"
      ]
    },
    {
      "cell_type": "code",
      "metadata": {
        "id": "iVOXXbvUHqSw"
      },
      "source": [
        "img_4color = Image.open(r'/content/drive/MyDrive/img/y_4color.png')\n",
        "y_arr = np.zeros(shape=(2400000,1), dtype='i')\n",
        "count = 0\n",
        "\n",
        "for x in range(2400):\n",
        "  for y in range(1000):\n",
        "    val = img_4color.getpixel((x, y))\n",
        "    r, g, b, a = val\n",
        "    if (r<50 and g>220 and b<50):\n",
        "      y_arr[count] = 1\n",
        "    elif (r>220 and g<50 and b<50):\n",
        "      y_arr[count] = 2\n",
        "    elif (r<50 and g<50 and b<50):\n",
        "      y_arr[count]= 3\n",
        "\n",
        "    count = count + 1 \n"
      ],
      "execution_count": null,
      "outputs": []
    },
    {
      "cell_type": "code",
      "metadata": {
        "id": "zjRR8L6nkxJ4"
      },
      "source": [
        "img_x = Image.open(r'/content/drive/MyDrive/img/x.png')\n",
        "x_arr = np.zeros(shape=(2400000,3), dtype='f')\n",
        "count = 0\n",
        "\n",
        "for x in range(2400):\n",
        "  for y in range(1000):\n",
        "    val = img_x.getpixel((x, y))\n",
        "    r, g, b, a = val\n",
        "    x_arr[count][0] = r / 255\n",
        "    x_arr[count][1] = g / 255\n",
        "    x_arr[count][2] = b / 255\n",
        "    count = count + 1 "
      ],
      "execution_count": null,
      "outputs": []
    },
    {
      "cell_type": "code",
      "metadata": {
        "id": "Y4itISh_wdoG"
      },
      "source": [
        "img_x = Image.open(r'/content/drive/MyDrive/img/x_test.png')\n",
        "test_x_arr = np.zeros(shape=(2400000,3), dtype='f')\n",
        "count = 0\n",
        "\n",
        "for x in range(2400):\n",
        "  for y in range(1000):\n",
        "    val = img_x.getpixel((x, y))\n",
        "    r, g, b, a = val\n",
        "    test_x_arr[count][0] = r / 255\n",
        "    test_x_arr[count][1] = g / 255\n",
        "    test_x_arr[count][2] = b / 255\n",
        "    count = count + 1 "
      ],
      "execution_count": null,
      "outputs": []
    },
    {
      "cell_type": "code",
      "metadata": {
        "id": "pMJ9jPtpw6qa"
      },
      "source": [
        "img_4color_test = Image.open(r'/content/drive/MyDrive/img/y_4color_test.png')\n",
        "test_y_arr = np.zeros(shape=(2400000,1), dtype='i')\n",
        "count = 0\n",
        "\n",
        "for x in range(2400):\n",
        "  for y in range(1000):\n",
        "    val = img_4color_test.getpixel((x, y))\n",
        "    r, g, b, a = val\n",
        "    if (r<50 and g>220 and b<50):\n",
        "      test_y_arr[count] = 1\n",
        "    elif (r>220 and g<50 and b<50):\n",
        "      test_y_arr[count] = 2\n",
        "    elif (r<50 and g<50 and b<50):\n",
        "      test_y_arr[count]= 3\n",
        "\n",
        "    count = count + 1 "
      ],
      "execution_count": null,
      "outputs": []
    },
    {
      "cell_type": "markdown",
      "metadata": {
        "id": "NrSCFUfjmL5B"
      },
      "source": [
        "ЗАГОТОВКА С ФОТО В 2 ЦЫЕТАХ"
      ]
    },
    {
      "cell_type": "code",
      "metadata": {
        "id": "xz0TAPH3mLMM"
      },
      "source": [
        "img_2color = Image.open(r'/content/drive/MyDrive/img/y_r.png')\n",
        "y_arr = np.zeros(shape=(2400000,1), dtype='i')\n",
        "count = 0\n",
        "\n",
        "for x in range(2400):\n",
        "  for y in range(1000):\n",
        "    val = img_2color.getpixel((x, y))\n",
        "    r, g, b, a = val\n",
        "    if (r<50 and g>220 and b<50):\n",
        "      y_arr[count] = 1\n",
        "    elif (r>220 and g<50 and b<50):\n",
        "      y_arr[count] = 2\n",
        "    elif (r<50 and g<50 and b<50):\n",
        "      y_arr[count]= 3\n",
        "\n",
        "    count = count + 1 "
      ],
      "execution_count": null,
      "outputs": []
    },
    {
      "cell_type": "markdown",
      "metadata": {
        "id": "-RMe-817EAO5"
      },
      "source": [
        "ОЛДОВАЯ ЗАГОТОВКА"
      ]
    },
    {
      "cell_type": "code",
      "metadata": {
        "id": "62FVIL7IpThi"
      },
      "source": [
        "def activate_dataframe (dir):\n",
        "  train_directory = rf'{dir}'\n",
        "  dataframe = ImageDataGenerator(rescale=1. / 255)\n",
        "  dataframe_generator = dataframe.flow_from_directory(\n",
        "      train_directory,\n",
        "      target_size=(50, 50),\n",
        "      color_mode=\"rgb\",\n",
        "      class_mode='categorical',\n",
        "      batch_size=960,\n",
        "      shuffle=False\n",
        "  )\n",
        "  df, _ = dataframe_generator.next()\n",
        "  return df"
      ],
      "execution_count": null,
      "outputs": []
    },
    {
      "cell_type": "code",
      "metadata": {
        "colab": {
          "base_uri": "https://localhost:8080/"
        },
        "id": "9OrhyofkpdR5",
        "outputId": "aa851ed9-caf0-4660-ee7b-7fc1a06e40ec"
      },
      "source": [
        "#Обучащий черный\n",
        "x = activate_dataframe(r\"/content/drive/MyDrive/image_cut/x\")\n",
        "#Обучащий цветной\n",
        "y = activate_dataframe(r\"/content/drive/MyDrive/image_cut/y\")\n",
        "#Тестовый черный\n",
        "x_test = activate_dataframe(r\"/content/drive/MyDrive/image_cut/x_test\")\n",
        "#Тестовый цветной\n",
        "#y_test = activate_dataframe(r\"/content/drive/MyDrive/new_volgograd_color\")"
      ],
      "execution_count": null,
      "outputs": [
        {
          "output_type": "stream",
          "text": [
            "Found 960 images belonging to 1 classes.\n",
            "Found 960 images belonging to 1 classes.\n",
            "Found 960 images belonging to 1 classes.\n"
          ],
          "name": "stdout"
        }
      ]
    },
    {
      "cell_type": "code",
      "metadata": {
        "colab": {
          "base_uri": "https://localhost:8080/"
        },
        "id": "Vyi0jt_0QyRd",
        "outputId": "50f8d7bc-ae61-4e65-df09-e4c5956056c2"
      },
      "source": [
        "count_0 = 0\n",
        "count_1 = 0\n",
        "count_2 = 0\n",
        "count_3 = 0\n",
        "for i in range(2400000):\n",
        "  if (arr_type[i] == 0):\n",
        "    count_0 = count_0 + 1\n",
        "  elif (arr_type[i] == 1):\n",
        "    count_1 = count_1 + 1\n",
        "  elif (arr_type[i] == 2):\n",
        "    count_2 = count_2 + 1\n",
        "  elif (arr_type[i] == 3):\n",
        "    count_3 = count_3 + 1\n",
        "  elif (arr_type[i] == 4):\n",
        "    count_4 = count_4 + 1\n",
        "\n",
        "print('0 =', count_0, '1 =', count_1, '2 =', count_2, '3 =', count_3)"
      ],
      "execution_count": null,
      "outputs": [
        {
          "output_type": "stream",
          "text": [
            "0 = 164690 1 = 113911 2 = 387760 3 = 1733639\n"
          ],
          "name": "stdout"
        }
      ]
    },
    {
      "cell_type": "code",
      "metadata": {
        "id": "msN84QleNWn9"
      },
      "source": [
        "y[200]"
      ],
      "execution_count": null,
      "outputs": []
    },
    {
      "cell_type": "markdown",
      "metadata": {
        "id": "s7bY46trpwEz"
      },
      "source": [
        "НЕЙРОНКА"
      ]
    },
    {
      "cell_type": "code",
      "metadata": {
        "id": "MF_tbpfXpuRK"
      },
      "source": [
        "#Нейронка для картинок\n",
        "model = keras.Sequential([\n",
        "    Conv2D(filters=3, kernel_size = 1, input_shape=(50, 50, 3)),\n",
        "    Dense(500, activation='relu'),\n",
        "    Dropout(0.4),\n",
        "    Dense(100, activation='relu'),\n",
        "    Conv2D(filters=3, kernel_size = 1, input_shape=(50, 50, 3))\n",
        "])"
      ],
      "execution_count": null,
      "outputs": []
    },
    {
      "cell_type": "code",
      "metadata": {
        "id": "IDo-IaJtmiCl"
      },
      "source": [
        "#Нейронка для черно-белой картинки\n",
        "model = keras.Sequential([\n",
        "    Dense(3, activation = \"relu\",input_shape=(3,)),\n",
        "    Dense(8, activation='softmax'),\n",
        "    Dropout(0.5),\n",
        "    Dense(4, activation='softmax'),\n",
        "    Dropout(0.5),\n",
        "\n",
        "    Dense(4, activation='relu')\n",
        "])"
      ],
      "execution_count": null,
      "outputs": []
    },
    {
      "cell_type": "code",
      "metadata": {
        "id": "wv7SdKRrlW3R"
      },
      "source": [
        "#Нейронка для БЕЛОЙ картинки\n",
        "model = keras.Sequential([\n",
        "    Dense(16, activation = \"elu\",input_shape=(3,)),\n",
        "    Dense(32, activation='softmax'),\n",
        "    Dropout(0.5),\n",
        "    Dense(64, activation='softmax'),\n",
        "    Dropout(0.5),\n",
        "    Dense(32, activation='softmax'),\n",
        "    Dropout(0.5),\n",
        "    Dense(16, activation='softmax'),\n",
        "    Dense(4, activation='relu')\n",
        "])"
      ],
      "execution_count": null,
      "outputs": []
    },
    {
      "cell_type": "code",
      "metadata": {
        "id": "iHJTGQZUp2PT"
      },
      "source": [
        "print(model.summary()) "
      ],
      "execution_count": null,
      "outputs": []
    },
    {
      "cell_type": "code",
      "metadata": {
        "id": "h6vz5Dvep5Jo"
      },
      "source": [
        "model.compile(optimizer='adam',\n",
        "             loss='sparse_categorical_crossentropy',\n",
        "             metrics=['accuracy'])"
      ],
      "execution_count": null,
      "outputs": []
    },
    {
      "cell_type": "code",
      "metadata": {
        "colab": {
          "background_save": true,
          "base_uri": "https://localhost:8080/"
        },
        "id": "Y5nOa6yap7Qj",
        "outputId": "490645df-fefd-42fe-bd2b-bb4b92ce5fb0"
      },
      "source": [
        "model.fit(x_arr, y_arr, batch_size=32, epochs=2, validation_split=0.10)"
      ],
      "execution_count": null,
      "outputs": [
        {
          "output_type": "stream",
          "text": [
            "Epoch 1/2\n",
            "67500/67500 [==============================] - 86s 1ms/step - loss: 1.7946 - accuracy: 0.0874 - val_loss: 1.3864 - val_accuracy: 0.0419\n",
            "Epoch 2/2\n",
            "67500/67500 [==============================] - 80s 1ms/step - loss: 1.3864 - accuracy: 0.0806 - val_loss: 1.3864 - val_accuracy: 0.0419\n"
          ],
          "name": "stdout"
        },
        {
          "output_type": "execute_result",
          "data": {
            "text/plain": [
              "<tensorflow.python.keras.callbacks.History at 0x7f452c8502d0>"
            ]
          },
          "metadata": {
            "tags": []
          },
          "execution_count": 0
        }
      ]
    },
    {
      "cell_type": "code",
      "metadata": {
        "colab": {
          "base_uri": "https://localhost:8080/"
        },
        "id": "uKo1Yky8xaOj",
        "outputId": "e6b2e941-0c6a-450e-b1bd-b00bb447cacd"
      },
      "source": [
        "model.evaluate(test_x_arr, test_y_arr)"
      ],
      "execution_count": null,
      "outputs": [
        {
          "output_type": "stream",
          "text": [
            "75000/75000 [==============================] - 68s 903us/step - loss: 1.3852 - accuracy: 0.0129\n"
          ],
          "name": "stdout"
        },
        {
          "output_type": "execute_result",
          "data": {
            "text/plain": [
              "[1.385237455368042, 0.012904583476483822]"
            ]
          },
          "metadata": {
            "tags": []
          },
          "execution_count": 15
        }
      ]
    },
    {
      "cell_type": "code",
      "metadata": {
        "id": "XhT1h-SeqAcU"
      },
      "source": [
        "predictions = model.predict(test_x_arr)"
      ],
      "execution_count": null,
      "outputs": []
    },
    {
      "cell_type": "code",
      "metadata": {
        "id": "GKpl-iwcFBY7"
      },
      "source": [
        "predictions[1000200:1000400]"
      ],
      "execution_count": null,
      "outputs": []
    },
    {
      "cell_type": "code",
      "metadata": {
        "colab": {
          "base_uri": "https://localhost:8080/"
        },
        "id": "vxDq3Z8bFss-",
        "outputId": "35ca2772-a15d-40e7-f922-2f5be9ebd5a5"
      },
      "source": [
        "count_green = 0;\n",
        "for i in range (2400000):\n",
        "  a = predictions[i]\n",
        "  max = np.argmax(a)\n",
        "  if (max==0):\n",
        "    count_green = count_green+1\n",
        "count_green    "
      ],
      "execution_count": null,
      "outputs": [
        {
          "output_type": "execute_result",
          "data": {
            "text/plain": [
              "0"
            ]
          },
          "metadata": {
            "tags": []
          },
          "execution_count": 36
        }
      ]
    },
    {
      "cell_type": "code",
      "metadata": {
        "colab": {
          "base_uri": "https://localhost:8080/",
          "height": 410
        },
        "id": "aKRIIswRyGsj",
        "outputId": "be239ffe-229c-41d3-e491-b75fdedcc9e6"
      },
      "source": [
        "#Белый, Зеленый, Красный, Черный\n",
        "img = Image.new('RGB', (2400, 1000))\n",
        "#img = Image.open(r'/content/drive/MyDrive/img/x_test.png')\n",
        "count = 0;\n",
        "for x in range(2400):\n",
        "  for y in range(1000):\n",
        "    a = predictions[count]\n",
        "    max = np.argmax(a)\n",
        "    if (max == 0):\n",
        "      img.putpixel((x, y), (255, 255 , 255)) \n",
        "    elif (max == 1):\n",
        "      img.putpixel((x, y), (0, 255 , 0)) \n",
        "    elif (max == 2):\n",
        "      img.putpixel((x, y), (255, 0 , 0)) \n",
        "    else:\n",
        "      img.putpixel((x, y), (0, 0 , 0))\n",
        "    count = count + 1   \n",
        "img      "
      ],
      "execution_count": null,
      "outputs": [
        {
          "output_type": "execute_result",
          "data": {
            "image/png": "[encoded data removed]",
            "text/plain": [
              "<PIL.Image.Image image mode=RGB size=2400x1000 at 0x7F65299AA6D0>"
            ]
          },
          "metadata": {
            "tags": []
          },
          "execution_count": 91
        }
      ]
    },
    {
      "cell_type": "markdown",
      "metadata": {
        "id": "0ceN5nT4qGIC"
      },
      "source": [
        "СОБИРАЕМ ФОТО"
      ]
    },
    {
      "cell_type": "code",
      "metadata": {
        "id": "MCX3OU9RqFXy"
      },
      "source": [
        "img = Image.new('RGB', (2400, 1000))\n",
        "for i in range(20):\n",
        " for j in range(48):\n",
        "    b = BytesIO()\n",
        "    tmp = np.array(Image.fromarray((predictions[i+j*20] * 255).astype(np.uint8)).resize((50, 50)).convert('RGB'))\n",
        "    tmp_img = Image.fromarray(tmp)\n",
        "    tmp_img.save(b,format=\"PNG\")\n",
        "    tmp1 = Image.open(b)\n",
        "    img.paste(tmp1, (50*j,50*i))\n",
        "    b.close()\n",
        "img"
      ],
      "execution_count": null,
      "outputs": []
    }
  ]
}